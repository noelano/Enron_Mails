{
 "cells": [
  {
   "cell_type": "markdown",
   "metadata": {},
   "source": [
    "# Enron analysis using grouped edges"
   ]
  },
  {
   "cell_type": "markdown",
   "metadata": {},
   "source": [
    "All emails from user a to user b are collapsed into a single edge e(a, b) with the weight of the edge given by the number of mails. In this way we can look at things like measuring proximity between 2 users by looking at the edge weights"
   ]
  },
  {
   "cell_type": "code",
   "execution_count": 1,
   "metadata": {
    "collapsed": true
   },
   "outputs": [],
   "source": [
    "# Library imports\n",
    "import pandas as pd\n",
    "import networkx as nx\n",
    "import numpy as np\n",
    "from NetworkGraph import NetworkGraph\n",
    "import matplotlib.pyplot as plt\n",
    "import operator\n",
    "\n",
    "%matplotlib inline"
   ]
  },
  {
   "cell_type": "code",
   "execution_count": 2,
   "metadata": {},
   "outputs": [
    {
     "data": {
      "text/plain": [
       "(2811799, 2)"
      ]
     },
     "execution_count": 2,
     "metadata": {},
     "output_type": "execute_result"
    }
   ],
   "source": [
    "df=pd.read_csv(\"Output\\\\emails_all_bck.csv\")\n",
    "\n",
    "df.shape"
   ]
  },
  {
   "cell_type": "code",
   "execution_count": 3,
   "metadata": {},
   "outputs": [
    {
     "data": {
      "text/html": [
       "<div>\n",
       "<style>\n",
       "    .dataframe thead tr:only-child th {\n",
       "        text-align: right;\n",
       "    }\n",
       "\n",
       "    .dataframe thead th {\n",
       "        text-align: left;\n",
       "    }\n",
       "\n",
       "    .dataframe tbody tr th {\n",
       "        vertical-align: top;\n",
       "    }\n",
       "</style>\n",
       "<table border=\"1\" class=\"dataframe\">\n",
       "  <thead>\n",
       "    <tr style=\"text-align: right;\">\n",
       "      <th></th>\n",
       "      <th>From</th>\n",
       "      <th>To</th>\n",
       "      <th>Weight</th>\n",
       "    </tr>\n",
       "  </thead>\n",
       "  <tbody>\n",
       "    <tr>\n",
       "      <th>0</th>\n",
       "      <td>'todd'.delahoussaye@enron.com</td>\n",
       "      <td>'todd'.delahoussaye@enron.com</td>\n",
       "      <td>5</td>\n",
       "    </tr>\n",
       "    <tr>\n",
       "      <th>1</th>\n",
       "      <td>'todd'.delahoussaye@enron.com</td>\n",
       "      <td>ajay.sharma@enron.com</td>\n",
       "      <td>5</td>\n",
       "    </tr>\n",
       "    <tr>\n",
       "      <th>2</th>\n",
       "      <td>'todd'.delahoussaye@enron.com</td>\n",
       "      <td>anne.bike@enron.com</td>\n",
       "      <td>1</td>\n",
       "    </tr>\n",
       "    <tr>\n",
       "      <th>3</th>\n",
       "      <td>'todd'.delahoussaye@enron.com</td>\n",
       "      <td>bianca.ornelas@enron.com</td>\n",
       "      <td>5</td>\n",
       "    </tr>\n",
       "    <tr>\n",
       "      <th>4</th>\n",
       "      <td>'todd'.delahoussaye@enron.com</td>\n",
       "      <td>brant.reves@enron.com</td>\n",
       "      <td>5</td>\n",
       "    </tr>\n",
       "  </tbody>\n",
       "</table>\n",
       "</div>"
      ],
      "text/plain": [
       "                            From                             To  Weight\n",
       "0  'todd'.delahoussaye@enron.com  'todd'.delahoussaye@enron.com       5\n",
       "1  'todd'.delahoussaye@enron.com          ajay.sharma@enron.com       5\n",
       "2  'todd'.delahoussaye@enron.com            anne.bike@enron.com       1\n",
       "3  'todd'.delahoussaye@enron.com       bianca.ornelas@enron.com       5\n",
       "4  'todd'.delahoussaye@enron.com          brant.reves@enron.com       5"
      ]
     },
     "execution_count": 3,
     "metadata": {},
     "output_type": "execute_result"
    }
   ],
   "source": [
    "df2 = df.groupby(['From','To']).size().reset_index()\n",
    "\n",
    "df2.columns = ['From', 'To', 'Weight']\n",
    "\n",
    "df2.head()"
   ]
  },
  {
   "cell_type": "markdown",
   "metadata": {},
   "source": [
    "The NetworkGraph class takes in a list of tuples containing the edges - as such we need to convert the grouped data frame before generating the graph object"
   ]
  },
  {
   "cell_type": "code",
   "execution_count": 4,
   "metadata": {
    "collapsed": true
   },
   "outputs": [],
   "source": [
    "# Store the smaller dataset for later use\n",
    "# df2.to_csv('Output/grouped_mails.csv')"
   ]
  },
  {
   "cell_type": "code",
   "execution_count": 5,
   "metadata": {},
   "outputs": [
    {
     "data": {
      "text/plain": [
       "288695"
      ]
     },
     "execution_count": 5,
     "metadata": {},
     "output_type": "execute_result"
    }
   ],
   "source": [
    "edges = [(x[0], x[1], 1.0/x[2]) for x in list(df2.values)]\n",
    "len(edges)"
   ]
  },
  {
   "cell_type": "code",
   "execution_count": 6,
   "metadata": {},
   "outputs": [
    {
     "data": {
      "text/plain": [
       "71971"
      ]
     },
     "execution_count": 6,
     "metadata": {},
     "output_type": "execute_result"
    }
   ],
   "source": [
    "G = NetworkGraph(edges)\n",
    "\n",
    "G.graph.number_of_nodes()"
   ]
  },
  {
   "cell_type": "code",
   "execution_count": 7,
   "metadata": {},
   "outputs": [
    {
     "data": {
      "text/plain": [
       "288695"
      ]
     },
     "execution_count": 7,
     "metadata": {},
     "output_type": "execute_result"
    }
   ],
   "source": [
    "G.graph.number_of_edges()"
   ]
  },
  {
   "cell_type": "code",
   "execution_count": 8,
   "metadata": {},
   "outputs": [
    {
     "data": {
      "text/plain": [
       "1124"
      ]
     },
     "execution_count": 8,
     "metadata": {},
     "output_type": "execute_result"
    }
   ],
   "source": [
    "nx.number_connected_components(G.graph.to_undirected())"
   ]
  },
  {
   "cell_type": "markdown",
   "metadata": {},
   "source": [
    "This is a surprisingly high number of connected components and is most likely down to the witheld data - some of these gaps should be filled in with the remaining data so that the number of components decreases. Regardless, the focus should be on individual components - we can focus on those with features / individuals of interest.\n",
    "Lets first see how many nodes/edges each component has and then identify cycles / cliques withtin them"
   ]
  },
  {
   "cell_type": "code",
   "execution_count": 9,
   "metadata": {
    "collapsed": true
   },
   "outputs": [],
   "source": [
    "subgraphs = nx.weakly_connected_component_subgraphs(G.graph, copy=True)"
   ]
  },
  {
   "cell_type": "code",
   "execution_count": 10,
   "metadata": {},
   "outputs": [
    {
     "data": {
      "text/plain": [
       "[(287014, 69476),\n",
       " (100, 101),\n",
       " (42, 43),\n",
       " (28, 29),\n",
       " (22, 23),\n",
       " (21, 14),\n",
       " (14, 15),\n",
       " (13, 14),\n",
       " (12, 13),\n",
       " (10, 11)]"
      ]
     },
     "execution_count": 10,
     "metadata": {},
     "output_type": "execute_result"
    }
   ],
   "source": [
    "components = []\n",
    "\n",
    "for g in subgraphs:\n",
    "    params = (g.number_of_edges(), g.number_of_nodes())\n",
    "    components.append(params)\n",
    "    \n",
    "components.sort(reverse=True)\n",
    "components[:10]"
   ]
  },
  {
   "cell_type": "markdown",
   "metadata": {},
   "source": [
    "It looks like most of the graph is contained in a single large component with the remaining pieces small components with just a few nodes. Lets try and find any cycles in any of the smaller ones"
   ]
  },
  {
   "cell_type": "code",
   "execution_count": 11,
   "metadata": {},
   "outputs": [
    {
     "name": "stdout",
     "output_type": "stream",
     "text": [
      "merlyn@stonehenge.com->cp@onsitetech.com->tex@off.org->merlyn@stonehenge.com\n",
      "merlyn@stonehenge.com->cp@onsitetech.com->merlyn@stonehenge.com\n",
      "merlyn@stonehenge.com->cp@onsitetech.com->tex@off.org->merlyn@stonehenge.com\n",
      "merlyn@stonehenge.com->cp@onsitetech.com->merlyn@stonehenge.com\n"
     ]
    }
   ],
   "source": [
    "subgraphs = nx.weakly_connected_component_subgraphs(G.graph, copy=True)\n",
    "\n",
    "for g in subgraphs:\n",
    "    if g.number_of_edges() < 2000:\n",
    "        net = NetworkGraph(g)\n",
    "        net.findCycles()\n",
    "        if len(net.cycles) > 0:\n",
    "            net.printCycles()\n",
    "    else:\n",
    "        # Store the maximal component for later\n",
    "        G2 = NetworkGraph(g)"
   ]
  },
  {
   "cell_type": "markdown",
   "metadata": {
    "collapsed": true
   },
   "source": [
    "There doesn't look to be anything of interest in the small components so we can probably discard them when doing the analysis"
   ]
  },
  {
   "cell_type": "markdown",
   "metadata": {},
   "source": [
    "As it stands this graph is too big to perform satisfactory analysis on. However, based on the problem statement we know of 5 users who have already been convicted - Chief Executive Officer Jeff Skilling, CEO and chairman Ken Lay, Chief Financial Officer Andrew Fastow, Chief Accounting Officer Rick Causey and Corporate Treasurer Ben Glisan. We want to take these known users as the starting point and only look at a reduced subset featuring users in close proximity to these. Proximity will be computed based on path distance within the graph.\n",
    "\n",
    "We'll compute the distance between these 5 and all other users then, for each of the 5 take the 500 closest to each of them and drill down to the subgraph formed by these users.\n",
    "\n",
    "The list of nodes that we want to focus on is therefore:\n",
    "- 'jeff.skilling@enron.com'\n",
    "- 'kenneth.lay@enron.com'\n",
    "- 'andrew.fastow@enron.com'\n",
    "- 'ben.glisan@enron.com'\n",
    "- 'richard.causey@enron.com'\n"
   ]
  },
  {
   "cell_type": "code",
   "execution_count": 12,
   "metadata": {},
   "outputs": [
    {
     "data": {
      "text/plain": [
       "['jeff.skilling@enron.com',\n",
       " 'kenneth.lay@enron.com',\n",
       " 'andrew.fastow@enron.com',\n",
       " 'ben.glisan@enron.com',\n",
       " 'richard.causey@enron.com']"
      ]
     },
     "execution_count": 12,
     "metadata": {},
     "output_type": "execute_result"
    }
   ],
   "source": [
    "# Find those present in the graph\n",
    "\n",
    "convicts = ['jeff.skilling@enron.com', 'kenneth.lay@enron.com',\n",
    "           'andrew.fastow@enron.com', 'ben.glisan@enron.com',\n",
    "           'richard.causey@enron.com']\n",
    "\n",
    "present_convicts = [x for x in convicts if x in list(G.graph.nodes())]\n",
    "present_convicts"
   ]
  },
  {
   "cell_type": "code",
   "execution_count": 13,
   "metadata": {},
   "outputs": [
    {
     "data": {
      "text/plain": [
       "1193"
      ]
     },
     "execution_count": 13,
     "metadata": {},
     "output_type": "execute_result"
    }
   ],
   "source": [
    "# Store proximities for each convict\n",
    "distances = {}\n",
    "close_nodes = []\n",
    "\n",
    "for c in convicts:\n",
    "    distances[c] = nx.nx.shortest_path_length(G.graph, source=c, target=None, weight='weight')\n",
    "    ordered_nodes = sorted(distances[c].items(), key=operator.itemgetter(1))\n",
    "    close_nodes += [x[0] for x in ordered_nodes[:500]]\n",
    "    \n",
    "close_nodes = list(set(close_nodes))\n",
    "len(close_nodes)"
   ]
  },
  {
   "cell_type": "code",
   "execution_count": 14,
   "metadata": {},
   "outputs": [
    {
     "data": {
      "text/plain": [
       "[('richard.causey@enron.com', 0),\n",
       " ('sally.beck@enron.com', 0.1),\n",
       " ('lexi.elliott@enron.com', 0.1),\n",
       " ('patti.thompson@enron.com', 0.10246913580246914),\n",
       " ('leslie.reeves@enron.com', 0.10462962962962963),\n",
       " ('brent.price@enron.com', 0.10469483568075118),\n",
       " ('beth.apollo@enron.com', 0.1053475935828877),\n",
       " ('louise.kitchen@enron.com', 0.10591715976331362),\n",
       " ('mary.solmonson@enron.com', 0.10689655172413794),\n",
       " ('sheila.glover@enron.com', 0.10704225352112677),\n",
       " ('greg.piper@enron.com', 0.10709219858156029),\n",
       " ('mike.jordan@enron.com', 0.10724637681159421),\n",
       " ('cwhite@viviance.com', 0.1076923076923077),\n",
       " ('peggy.hedstrom@enron.com', 0.1078125),\n",
       " ('shona.wilson@enron.com', 0.1078740157480315),\n",
       " ('john.lavorato@enron.com', 0.10793650793650794),\n",
       " ('bob.hall@enron.com', 0.10806451612903226),\n",
       " ('brenda.herod@enron.com', 0.10819672131147541),\n",
       " ('david.delainey@enron.com', 0.10862068965517242),\n",
       " ('robert.superty@enron.com', 0.10877192982456141)]"
      ]
     },
     "execution_count": 14,
     "metadata": {},
     "output_type": "execute_result"
    }
   ],
   "source": [
    "ordered_nodes[:20]"
   ]
  },
  {
   "cell_type": "markdown",
   "metadata": {},
   "source": [
    "As expected there is significant overlap between the closest nodes to each convict. Let's attempt to find regions of interest within this subgraph (Cliques, cycles and black-holes / volcanoes"
   ]
  },
  {
   "cell_type": "code",
   "execution_count": 15,
   "metadata": {
    "collapsed": true
   },
   "outputs": [],
   "source": [
    "g2 = G.graph.subgraph(close_nodes)"
   ]
  },
  {
   "cell_type": "code",
   "execution_count": 16,
   "metadata": {},
   "outputs": [
    {
     "data": {
      "text/plain": [
       "31877"
      ]
     },
     "execution_count": 16,
     "metadata": {},
     "output_type": "execute_result"
    }
   ],
   "source": [
    "# Create a network graph using this subset\n",
    "G2 = NetworkGraph(g2)\n",
    "G2.graph.number_of_edges()"
   ]
  },
  {
   "cell_type": "code",
   "execution_count": 17,
   "metadata": {
    "collapsed": true
   },
   "outputs": [],
   "source": [
    "# Save to csv\n",
    "# nx.write_edgelist(G2.graph, \"Output\\\\convict_subgraph.csv\", delimiter=',')"
   ]
  },
  {
   "cell_type": "markdown",
   "metadata": {},
   "source": [
    "Using the implemented algorithms, identify the cycles, cliques and blackholes within the graph"
   ]
  },
  {
   "cell_type": "code",
   "execution_count": 18,
   "metadata": {},
   "outputs": [
    {
     "data": {
      "text/plain": [
       "0"
      ]
     },
     "execution_count": 18,
     "metadata": {},
     "output_type": "execute_result"
    }
   ],
   "source": [
    "G2.findCycles()\n",
    "\n",
    "len(G2.cycles)"
   ]
  },
  {
   "cell_type": "code",
   "execution_count": 19,
   "metadata": {
    "collapsed": true
   },
   "outputs": [],
   "source": [
    "#cycles = list(nx.simple_cycles(G2.graph))\n",
    "#len(cycles)"
   ]
  },
  {
   "cell_type": "code",
   "execution_count": 20,
   "metadata": {
    "collapsed": true
   },
   "outputs": [],
   "source": [
    "#lengths = [len(c) for c in G2.cycles]\n",
    "#lengths.sort(reverse=True)\n",
    "\n",
    "#lengths[:20]"
   ]
  },
  {
   "cell_type": "code",
   "execution_count": 21,
   "metadata": {},
   "outputs": [],
   "source": [
    "# G2.findMaximalCliques()\n",
    "# len(G2.maximal_cliques)\n",
    "\n",
    "# Maximum recursion depth error with this method, despite the small graph size"
   ]
  },
  {
   "cell_type": "code",
   "execution_count": 22,
   "metadata": {},
   "outputs": [
    {
     "data": {
      "text/plain": [
       "54539"
      ]
     },
     "execution_count": 22,
     "metadata": {},
     "output_type": "execute_result"
    }
   ],
   "source": [
    "# Use the networkx clique finder instead\n",
    "\n",
    "cliques = list(nx.find_cliques(G2.graph.to_undirected()))\n",
    "\n",
    "len(cliques)"
   ]
  },
  {
   "cell_type": "code",
   "execution_count": 23,
   "metadata": {},
   "outputs": [
    {
     "data": {
      "text/plain": [
       "['susan.mara@enron.com',\n",
       " 'matt.motley@enron.com',\n",
       " 'alan.comnes@enron.com',\n",
       " 'tim.belden@enron.com',\n",
       " 'robert.badeer@enron.com',\n",
       " 'sean.crandall@enron.com',\n",
       " 'rcarroll@bracepatt.com',\n",
       " 'sarah.novosel@enron.com',\n",
       " 'mike.swerzbin@enron.com',\n",
       " 'mary.hain@enron.com',\n",
       " 'lysa.akin@enron.com']"
      ]
     },
     "execution_count": 23,
     "metadata": {},
     "output_type": "execute_result"
    }
   ],
   "source": [
    "list(cliques[0])"
   ]
  },
  {
   "cell_type": "markdown",
   "metadata": {},
   "source": [
    "If any of the convicts were present in a clique then the other members of that clique would be under suspicion. Lets check if we have any such cliques"
   ]
  },
  {
   "cell_type": "code",
   "execution_count": 24,
   "metadata": {},
   "outputs": [
    {
     "data": {
      "text/plain": [
       "9057"
      ]
     },
     "execution_count": 24,
     "metadata": {},
     "output_type": "execute_result"
    }
   ],
   "source": [
    "suspicious_cliques = []\n",
    "\n",
    "for c in convicts:\n",
    "    suspicious_cliques += [clique for clique in cliques if c in list(clique)]\n",
    "    \n",
    "len(suspicious_cliques)"
   ]
  },
  {
   "cell_type": "markdown",
   "metadata": {},
   "source": [
    "To narrow down this number further we consider cliques with more than 1 convict. We can group the cliques into 5 categories based on the number of convicts present within the clique"
   ]
  },
  {
   "cell_type": "code",
   "execution_count": 29,
   "metadata": {},
   "outputs": [
    {
     "name": "stdout",
     "output_type": "stream",
     "text": [
      "1 6770\n",
      "2 2104\n",
      "3 183\n",
      "4 0\n",
      "5 0\n"
     ]
    }
   ],
   "source": [
    "# Dictionary to store clique groupings\n",
    "convicts_per_clique = {}\n",
    "for i in range(1, 6):\n",
    "    convicts_per_clique[i] = []\n",
    "\n",
    "# Transform convicts to a set object to look at intersections\n",
    "convict_set = set(convicts)\n",
    "for clique in suspicious_cliques:\n",
    "    intersect = len(convict_set.intersection(set(list(clique))))\n",
    "    convicts_per_clique[intersect].append(clique)\n",
    "    \n",
    "for i in range(1, 6):\n",
    "    print i, len(convicts_per_clique[i])"
   ]
  },
  {
   "cell_type": "markdown",
   "metadata": {},
   "source": [
    "The highest number we get is 3 convicts within a single clique. There will probably be overlap in the nodes within these cliques so lets combine all 183 together and look at the list of unique nodes that comes out"
   ]
  },
  {
   "cell_type": "code",
   "execution_count": 31,
   "metadata": {},
   "outputs": [
    {
     "data": {
      "text/plain": [
       "31"
      ]
     },
     "execution_count": 31,
     "metadata": {},
     "output_type": "execute_result"
    }
   ],
   "source": [
    "three_convict_cliques = []\n",
    "for c in convicts_per_clique[3]:\n",
    "    three_convict_cliques += list(c)\n",
    "    \n",
    "three_convict_cliques = list(set(three_convict_cliques))\n",
    "len(three_convict_cliques)"
   ]
  },
  {
   "cell_type": "code",
   "execution_count": 32,
   "metadata": {},
   "outputs": [
    {
     "data": {
      "text/plain": [
       "['david.oxley@enron.com',\n",
       " 'jeff.skilling@enron.com',\n",
       " 'ben.glisan@enron.com',\n",
       " 'rosalee.fleming@enron.com',\n",
       " 'greg.whalley@enron.com',\n",
       " 'john.sherriff@enron.com',\n",
       " 'lexi.elliott@enron.com',\n",
       " 'rebecca.carter@enron.com',\n",
       " 'wes.colwell@enron.com',\n",
       " 'sally.beck@enron.com',\n",
       " 'j..kean@enron.com',\n",
       " 'paula.rieker@enron.com',\n",
       " 'linda.robertson@enron.com',\n",
       " 'sherri.sera@enron.com',\n",
       " 'david.delainey@enron.com',\n",
       " 'john.lavorato@enron.com',\n",
       " 'l..wells@enron.com',\n",
       " 'katherine.brown@enron.com',\n",
       " 'kenneth.lay@enron.com',\n",
       " 'maureen.mcvicker@enron.com',\n",
       " 'bryan.seyfried@enron.com',\n",
       " 'sharron.westbrook@enron.com',\n",
       " 'andrew.fastow@enron.com',\n",
       " 'maureen.raymond@enron.com',\n",
       " 'vanessa.groscrand@enron.com',\n",
       " 'mike.mcconnell@enron.com',\n",
       " 'karen.denne@enron.com',\n",
       " 'gary.hickerson@enron.com',\n",
       " 'rick.buy@enron.com',\n",
       " 'louise.kitchen@enron.com',\n",
       " 'richard.causey@enron.com']"
      ]
     },
     "execution_count": 32,
     "metadata": {},
     "output_type": "execute_result"
    }
   ],
   "source": [
    "three_convict_cliques"
   ]
  },
  {
   "cell_type": "code",
   "execution_count": 25,
   "metadata": {},
   "outputs": [
    {
     "data": {
      "text/plain": [
       "5"
      ]
     },
     "execution_count": 25,
     "metadata": {},
     "output_type": "execute_result"
    }
   ],
   "source": [
    "G2.findBlackHoles(30)\n",
    "\n",
    "len(G2.black_holes)\n",
    "\n",
    "# Despite the pruning, the brute-force part of the algorithm is still too intensive\n",
    "# Memory error on the step to calculate all possible subsets of the remaining nodes"
   ]
  },
  {
   "cell_type": "code",
   "execution_count": 26,
   "metadata": {},
   "outputs": [
    {
     "name": "stdout",
     "output_type": "stream",
     "text": [
      "['audrey.cook@enron.com', 'lisa.valderrama@enron.com']\n",
      "['fatimata.liamidi@enron.com', 'vkamins@enron.com']\n",
      "['jdasovic@enron.com', 'steven.j.kean@enron.com']\n",
      "['jfrizzell@gibbs-bruns.com', 'richard.b.sanders@enron.com']\n",
      "['liz@luntz.com', 'skean@enron.com']\n"
     ]
    }
   ],
   "source": [
    "for b in G2.black_holes:\n",
    "    print b"
   ]
  },
  {
   "cell_type": "code",
   "execution_count": 27,
   "metadata": {},
   "outputs": [
    {
     "data": {
      "text/plain": [
       "0"
      ]
     },
     "execution_count": 27,
     "metadata": {},
     "output_type": "execute_result"
    }
   ],
   "source": [
    "G2.findVolcanos(30)\n",
    "\n",
    "len(G2.volcanoes)"
   ]
  }
 ],
 "metadata": {
  "kernelspec": {
   "display_name": "Python 2",
   "language": "python",
   "name": "python2"
  },
  "language_info": {
   "codemirror_mode": {
    "name": "ipython",
    "version": 2
   },
   "file_extension": ".py",
   "mimetype": "text/x-python",
   "name": "python",
   "nbconvert_exporter": "python",
   "pygments_lexer": "ipython2",
   "version": "2.7.13"
  }
 },
 "nbformat": 4,
 "nbformat_minor": 2
}
