{
 "cells": [
  {
   "cell_type": "code",
   "execution_count": 1,
   "metadata": {
    "collapsed": true
   },
   "outputs": [],
   "source": [
    "# Library imports\n",
    "import pandas as pd\n",
    "import networkx as nx\n",
    "import numpy as np\n",
    "from NetworkGraph import NetworkGraph"
   ]
  },
  {
   "cell_type": "code",
   "execution_count": 2,
   "metadata": {},
   "outputs": [
    {
     "data": {
      "text/plain": [
       "(2811799, 2)"
      ]
     },
     "execution_count": 2,
     "metadata": {},
     "output_type": "execute_result"
    }
   ],
   "source": [
    "df=pd.read_csv(\"Output\\\\emails_all_bck.csv\")\n",
    "\n",
    "df.shape"
   ]
  },
  {
   "cell_type": "code",
   "execution_count": 3,
   "metadata": {},
   "outputs": [
    {
     "data": {
      "text/html": [
       "<div>\n",
       "<style>\n",
       "    .dataframe thead tr:only-child th {\n",
       "        text-align: right;\n",
       "    }\n",
       "\n",
       "    .dataframe thead th {\n",
       "        text-align: left;\n",
       "    }\n",
       "\n",
       "    .dataframe tbody tr th {\n",
       "        vertical-align: top;\n",
       "    }\n",
       "</style>\n",
       "<table border=\"1\" class=\"dataframe\">\n",
       "  <thead>\n",
       "    <tr style=\"text-align: right;\">\n",
       "      <th></th>\n",
       "      <th>From</th>\n",
       "      <th>To</th>\n",
       "      <th>Weight</th>\n",
       "    </tr>\n",
       "  </thead>\n",
       "  <tbody>\n",
       "    <tr>\n",
       "      <th>0</th>\n",
       "      <td>'todd'.delahoussaye@enron.com</td>\n",
       "      <td>'todd'.delahoussaye@enron.com</td>\n",
       "      <td>5</td>\n",
       "    </tr>\n",
       "    <tr>\n",
       "      <th>1</th>\n",
       "      <td>'todd'.delahoussaye@enron.com</td>\n",
       "      <td>ajay.sharma@enron.com</td>\n",
       "      <td>5</td>\n",
       "    </tr>\n",
       "    <tr>\n",
       "      <th>2</th>\n",
       "      <td>'todd'.delahoussaye@enron.com</td>\n",
       "      <td>anne.bike@enron.com</td>\n",
       "      <td>1</td>\n",
       "    </tr>\n",
       "    <tr>\n",
       "      <th>3</th>\n",
       "      <td>'todd'.delahoussaye@enron.com</td>\n",
       "      <td>bianca.ornelas@enron.com</td>\n",
       "      <td>5</td>\n",
       "    </tr>\n",
       "    <tr>\n",
       "      <th>4</th>\n",
       "      <td>'todd'.delahoussaye@enron.com</td>\n",
       "      <td>brant.reves@enron.com</td>\n",
       "      <td>5</td>\n",
       "    </tr>\n",
       "  </tbody>\n",
       "</table>\n",
       "</div>"
      ],
      "text/plain": [
       "                            From                             To  Weight\n",
       "0  'todd'.delahoussaye@enron.com  'todd'.delahoussaye@enron.com       5\n",
       "1  'todd'.delahoussaye@enron.com          ajay.sharma@enron.com       5\n",
       "2  'todd'.delahoussaye@enron.com            anne.bike@enron.com       1\n",
       "3  'todd'.delahoussaye@enron.com       bianca.ornelas@enron.com       5\n",
       "4  'todd'.delahoussaye@enron.com          brant.reves@enron.com       5"
      ]
     },
     "execution_count": 3,
     "metadata": {},
     "output_type": "execute_result"
    }
   ],
   "source": [
    "df2 = df.groupby(['From','To']).size().reset_index()\n",
    "\n",
    "df2.columns = ['From', 'To', 'Weight']\n",
    "\n",
    "df2.head()"
   ]
  },
  {
   "cell_type": "markdown",
   "metadata": {},
   "source": [
    "The NetworkGraph class takes in a list of tuples containing the edges - as such we need to convert the grouped data frame before generating the graph object"
   ]
  },
  {
   "cell_type": "code",
   "execution_count": 4,
   "metadata": {
    "collapsed": true
   },
   "outputs": [],
   "source": [
    "edges = [(x[0], x[1], x[2]) for x in list(df2.values)]"
   ]
  },
  {
   "cell_type": "code",
   "execution_count": 5,
   "metadata": {},
   "outputs": [
    {
     "data": {
      "text/plain": [
       "71971"
      ]
     },
     "execution_count": 5,
     "metadata": {},
     "output_type": "execute_result"
    }
   ],
   "source": [
    "G = NetworkGraph(edges)\n",
    "\n",
    "G.graph.number_of_nodes()"
   ]
  },
  {
   "cell_type": "code",
   "execution_count": 6,
   "metadata": {},
   "outputs": [
    {
     "data": {
      "text/plain": [
       "288695"
      ]
     },
     "execution_count": 6,
     "metadata": {},
     "output_type": "execute_result"
    }
   ],
   "source": [
    "G.graph.number_of_edges()"
   ]
  },
  {
   "cell_type": "markdown",
   "metadata": {},
   "source": [
    "Using the implemented cycle finder, identify the cycles within the graph"
   ]
  },
  {
   "cell_type": "code",
   "execution_count": 7,
   "metadata": {
    "collapsed": true
   },
   "outputs": [],
   "source": [
    "#G.findCycles()\n",
    "\n",
    "#G.printCycles()\n",
    "\n",
    "# THis currently has a recursion depth error"
   ]
  },
  {
   "cell_type": "code",
   "execution_count": 8,
   "metadata": {},
   "outputs": [
    {
     "data": {
      "text/plain": [
       "1124"
      ]
     },
     "execution_count": 8,
     "metadata": {},
     "output_type": "execute_result"
    }
   ],
   "source": [
    "nx.number_connected_components(G.graph.to_undirected())"
   ]
  },
  {
   "cell_type": "markdown",
   "metadata": {},
   "source": [
    "This is a surprisingly high number of connected components and is most likely down to the witheld data - some of these gaps should be filled in with the remaining data so that the number of components decreases. Regardless, the focus should be on individual components - we can focus on those with features / individuals of interest.\n",
    "Lets first see how many nodes/edges each component has and then identify cycles / cliques withtin them"
   ]
  },
  {
   "cell_type": "code",
   "execution_count": 9,
   "metadata": {
    "collapsed": true
   },
   "outputs": [],
   "source": [
    "subgraphs = nx.weakly_connected_component_subgraphs(G.graph, copy=True)"
   ]
  },
  {
   "cell_type": "code",
   "execution_count": 10,
   "metadata": {},
   "outputs": [
    {
     "data": {
      "text/plain": [
       "[(287014, 69476),\n",
       " (100, 101),\n",
       " (42, 43),\n",
       " (28, 29),\n",
       " (22, 23),\n",
       " (21, 14),\n",
       " (14, 15),\n",
       " (13, 14),\n",
       " (12, 13),\n",
       " (10, 11)]"
      ]
     },
     "execution_count": 10,
     "metadata": {},
     "output_type": "execute_result"
    }
   ],
   "source": [
    "components = []\n",
    "\n",
    "for g in subgraphs:\n",
    "    params = (g.number_of_edges(), g.number_of_nodes())\n",
    "    components.append(params)\n",
    "    \n",
    "components.sort(reverse=True)\n",
    "components[:10]"
   ]
  },
  {
   "cell_type": "markdown",
   "metadata": {},
   "source": [
    "It looks like most of the graph is contained in a single large component with the remaining pieces small components with just a few nodes. Lets try and find any cycles in any of the smaller ones"
   ]
  },
  {
   "cell_type": "code",
   "execution_count": 11,
   "metadata": {},
   "outputs": [
    {
     "name": "stdout",
     "output_type": "stream",
     "text": [
      "merlyn@stonehenge.com->cp@onsitetech.com->tex@off.org->merlyn@stonehenge.com\n",
      "merlyn@stonehenge.com->cp@onsitetech.com->merlyn@stonehenge.com\n",
      "merlyn@stonehenge.com->cp@onsitetech.com->tex@off.org->merlyn@stonehenge.com\n",
      "merlyn@stonehenge.com->cp@onsitetech.com->merlyn@stonehenge.com\n"
     ]
    }
   ],
   "source": [
    "subgraphs = nx.weakly_connected_component_subgraphs(G.graph, copy=True)\n",
    "\n",
    "for g in subgraphs:\n",
    "    if g.number_of_edges() < 2000:\n",
    "        net = NetworkGraph(g)\n",
    "        net.findCycles()\n",
    "        if len(net.cycles) > 0:\n",
    "            net.printCycles()"
   ]
  },
  {
   "cell_type": "markdown",
   "metadata": {
    "collapsed": true
   },
   "source": [
    "There doesn't look to be anything of interest in the small components so we can probably discard them when doing the analysis"
   ]
  },
  {
   "cell_type": "code",
   "execution_count": null,
   "metadata": {
    "collapsed": true
   },
   "outputs": [],
   "source": []
  }
 ],
 "metadata": {
  "kernelspec": {
   "display_name": "Python 2",
   "language": "python",
   "name": "python2"
  },
  "language_info": {
   "codemirror_mode": {
    "name": "ipython",
    "version": 2
   },
   "file_extension": ".py",
   "mimetype": "text/x-python",
   "name": "python",
   "nbconvert_exporter": "python",
   "pygments_lexer": "ipython2",
   "version": "2.7.13"
  }
 },
 "nbformat": 4,
 "nbformat_minor": 2
}
